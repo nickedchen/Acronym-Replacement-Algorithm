{
 "cells": [
  {
   "cell_type": "markdown",
   "id": "2a4a4e23-77b4-4425-bc2e-2e6ec5ef9b47",
   "metadata": {},
   "source": [
    "# The Keyword Replacement Algorithm"
   ]
  },
  {
   "cell_type": "markdown",
   "id": "3bb797bc-78a9-4085-ac1f-d1b36d2b6bc5",
   "metadata": {},
   "source": [
    "### Implementation of the first algorithm"
   ]
  },
  {
   "cell_type": "code",
   "execution_count": 1,
   "id": "30c58e60-d538-42fd-8fd9-5c2aae94f32e",
   "metadata": {
    "tags": []
   },
   "outputs": [],
   "source": [
    "import time\n",
    "import matplotlib.pyplot as plt\n",
    "import numpy as np\n",
    "from KeywordReplacement import load_acronyms, load_reviews, replace_acronyms, test1, test2"
   ]
  },
  {
   "cell_type": "code",
   "execution_count": 2,
   "id": "4a2ffd41-b06e-46c4-bd6f-ca241a36ab64",
   "metadata": {
    "tags": []
   },
   "outputs": [],
   "source": [
    "# Load acronyms and reviews\n",
    "acronym_list, expansion_list = load_acronyms('data/acronyms/slang.csv')\n",
    "review_list = load_reviews('data/reviews')\n",
    "test1_review_list = load_reviews('data/test1reviews')\n",
    "test2_review_list = load_reviews('data/test2reviews')"
   ]
  },
  {
   "attachments": {},
   "cell_type": "markdown",
   "id": "ceefb76c-df21-46f7-acb7-8b0ef79f1bfb",
   "metadata": {
    "tags": []
   },
   "source": [
    "Test 1 results:"
   ]
  },
  {
   "cell_type": "code",
   "execution_count": 3,
   "id": "d291245b-7543-4ab3-9e66-4b602d1a9f82",
   "metadata": {
    "tags": []
   },
   "outputs": [
    {
     "name": "stdout",
     "output_type": "stream",
     "text": [
      "Original Reviews: ['I will brb', 'smh gtg np', 'SMH GTG NP']\n",
      "Modified Reviews: ['I will be right back', 'shaking my head got to go no problem', 'shaking my head got to go no problem']\n",
      "Execution time: 0.000\n",
      "Test result: Success\n"
     ]
    }
   ],
   "source": [
    "#Test 1\n",
    "modified_reviews, execution_time, test_result = test1(test1_review_list, acronym_list, expansion_list)\n",
    "print(f\"Original Reviews: {test1_review_list}\")\n",
    "print(f\"Modified Reviews: {modified_reviews}\")\n",
    "print(f\"Execution time: {execution_time:.3f}\")\n",
    "print(f\"Test result: {test_result}\")"
   ]
  },
  {
   "attachments": {},
   "cell_type": "markdown",
   "id": "0f71233a",
   "metadata": {},
   "source": [
    "Test 2 results:"
   ]
  },
  {
   "cell_type": "code",
   "execution_count": 4,
   "id": "071ff7e9",
   "metadata": {},
   "outputs": [
    {
     "name": "stdout",
     "output_type": "stream",
     "text": [
      "Review count: 9163\n",
      "Execution time: 7.376\n",
      "Test result: Success\n"
     ]
    }
   ],
   "source": [
    "#Test 2\n",
    "review_count, execution_time, test_result = test2(test2_review_list, acronym_list, expansion_list)\n",
    "print(f\"Review count: {review_count}\")\n",
    "print(f\"Execution time: {execution_time:.3f}\")\n",
    "print(f\"Test result: {test_result}\")"
   ]
  },
  {
   "cell_type": "markdown",
   "id": "56e53c00-d47c-4e0f-8e62-7cd3e55c5c9a",
   "metadata": {},
   "source": [
    "### Time complexity analysis"
   ]
  },
  {
   "cell_type": "code",
   "execution_count": 5,
   "id": "7b7059e0-a7a4-4938-bc34-e3e3015aa6af",
   "metadata": {
    "tags": []
   },
   "outputs": [],
   "source": [
    "# Define function to measure runtime\n",
    "def measure_runtime(func, *args):\n",
    "    start_time = time.time()\n",
    "    func(*args)\n",
    "    end_time = time.time()\n",
    "    return end_time - start_time"
   ]
  },
  {
   "cell_type": "code",
   "execution_count": 6,
   "id": "88825ed2-c0d9-4105-b64c-b83d5cfa79b6",
   "metadata": {
    "tags": []
   },
   "outputs": [],
   "source": [
    "# Define list of input sizes to test\n",
    "input_sizes = [10, 50, 100, 500, 1000, 5000, 10000]"
   ]
  },
  {
   "cell_type": "code",
   "execution_count": 7,
   "id": "6ccb6dc1-be39-419c-ba25-be4b2ab0bcc2",
   "metadata": {
    "tags": []
   },
   "outputs": [],
   "source": [
    "# Define empty lists to store runtimes and expected runtimes\n",
    "runtimes = []\n",
    "expected_runtimes = []"
   ]
  },
  {
   "cell_type": "code",
   "execution_count": 8,
   "id": "f7e86068-bbe1-4852-ae2a-255af3ff3cf7",
   "metadata": {
    "tags": []
   },
   "outputs": [],
   "source": [
    "# Iterate over input sizes and measure runtimes\n",
    "for size in input_sizes:\n",
    "    reviews = review_list[:size]\n",
    "    runtime = measure_runtime(replace_acronyms, reviews, acronym_list, expansion_list)\n",
    "    runtimes.append(runtime)\n",
    "    expected_runtime = (size ** 2) * 0.0000001\n",
    "    expected_runtimes.append(expected_runtime)"
   ]
  },
  {
   "cell_type": "code",
   "execution_count": 9,
   "id": "fd2bb9de-c029-46b3-8399-b05b3bcd9127",
   "metadata": {
    "tags": []
   },
   "outputs": [
    {
     "data": {
      "image/png": "[encoded data removed]",
      "text/plain": [
       "<Figure size 432x288 with 1 Axes>"
      ]
     },
     "metadata": {
      "needs_background": "light"
     },
     "output_type": "display_data"
    }
   ],
   "source": [
    "\n",
    "# Plot runtimes and expected runtimes\n",
    "plt.plot(input_sizes, runtimes, label='Actual Runtime')\n",
    "plt.plot(input_sizes, expected_runtimes, label='Expected Runtime (O(n^2))')\n",
    "plt.xlabel('Input Size')\n",
    "plt.ylabel('Runtime (Seconds)')\n",
    "plt.title('Keyword Replacement Algorithm Runtime Analysis')\n",
    "plt.legend()\n",
    "plt.show()"
   ]
  }
 ],
 "metadata": {
  "kernelspec": {
   "display_name": "Python 3 (ipykernel)",
   "language": "python",
   "name": "python3"
  },
  "language_info": {
   "codemirror_mode": {
    "name": "ipython",
    "version": 3
   },
   "file_extension": ".py",
   "mimetype": "text/x-python",
   "name": "python",
   "nbconvert_exporter": "python",
   "pygments_lexer": "ipython3",
   "version": "3.9.5"
  }
 },
 "nbformat": 4,
 "nbformat_minor": 5
}
